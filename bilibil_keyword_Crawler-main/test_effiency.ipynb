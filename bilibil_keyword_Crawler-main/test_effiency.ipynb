{
 "cells": [
  {
   "cell_type": "code",
   "execution_count": 1,
   "id": "7522b850",
   "metadata": {},
   "outputs": [
    {
     "name": "stdout",
     "output_type": "stream",
     "text": [
      "测试第 1 页 ...\n"
     ]
    },
    {
     "name": "stderr",
     "output_type": "stream",
     "text": [
      "搜索关键词: 翁法罗斯 - 第1页: 100%|██████████| 1/1 [00:02<00:00,  2.68s/it]\n"
     ]
    },
    {
     "name": "stdout",
     "output_type": "stream",
     "text": [
      "搜索完成，找到 36 个唯一视频\n",
      "开始获取 36 个视频的详细信息...\n"
     ]
    },
    {
     "name": "stderr",
     "output_type": "stream",
     "text": [
      "创建详情获取任务: 100%|██████████| 36/36 [00:00<00:00, 36393.09it/s]\n"
     ]
    },
    {
     "name": "stdout",
     "output_type": "stream",
     "text": [
      "等待详细信息获取任务完成...\n",
      "第一轮获取后有 4 个视频需要重试...\n"
     ]
    },
    {
     "name": "stderr",
     "output_type": "stream",
     "text": [
      "重试获取: 100%|██████████| 4/4 [00:06<00:00,  1.58s/it]"
     ]
    },
    {
     "name": "stdout",
     "output_type": "stream",
     "text": [
      "详细信息获取完成，共 36 个视频\n",
      "第 1 页获取到 36 个视频\n",
      "\n",
      "测试完成：共抓取 36 个视频，用时 14.72 秒\n",
      "平均每个视频耗时：0.41 秒\n"
     ]
    },
    {
     "name": "stderr",
     "output_type": "stream",
     "text": [
      "\n"
     ]
    }
   ],
   "source": [
    "import asyncio\n",
    "import time\n",
    "from bilibili_api import BilibiliAPI\n",
    "import nest_asyncio\n",
    "nest_asyncio.apply()\n",
    "\n",
    "async def test_crawler_efficiency(keyword=\"翁法罗斯\", test_pages=1):\n",
    "    api = BilibiliAPI()\n",
    "    total_videos = 0\n",
    "    start_time = time.time()\n",
    "    for page in range(1, test_pages + 1):\n",
    "        print(f\"测试第 {page} 页 ...\")\n",
    "        results = await api.search_and_get_video_info(keyword=keyword, page=page)\n",
    "        print(f\"第 {page} 页获取到 {len(results)} 个视频\")\n",
    "        total_videos += len(results)\n",
    "    end_time = time.time()\n",
    "    elapsed = end_time - start_time\n",
    "    print(f\"\\n测试完成：共抓取 {total_videos} 个视频，用时 {elapsed:.2f} 秒\")\n",
    "    if total_videos > 0:\n",
    "        print(f\"平均每个视频耗时：{elapsed / total_videos:.2f} 秒\")\n",
    "    else:\n",
    "        print(\"未获取到视频，无法计算效率。\")\n",
    "\n",
    "await test_crawler_efficiency(keyword=\"翁法罗斯\", test_pages=1)"
   ]
  }
 ],
 "metadata": {
  "kernelspec": {
   "display_name": "pyforday",
   "language": "python",
   "name": "python3"
  },
  "language_info": {
   "codemirror_mode": {
    "name": "ipython",
    "version": 3
   },
   "file_extension": ".py",
   "mimetype": "text/x-python",
   "name": "python",
   "nbconvert_exporter": "python",
   "pygments_lexer": "ipython3",
   "version": "3.11.9"
  }
 },
 "nbformat": 4,
 "nbformat_minor": 5
}
